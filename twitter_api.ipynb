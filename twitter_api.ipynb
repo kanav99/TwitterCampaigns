{
 "cells": [
  {
   "cell_type": "code",
   "execution_count": 1,
   "metadata": {},
   "outputs": [],
   "source": [
    "import tweepy\n",
    "import datetime\n",
    "from dateutil.parser import parse"
   ]
  },
  {
   "cell_type": "code",
   "execution_count": 2,
   "metadata": {},
   "outputs": [],
   "source": [
    "ConsumerKey= \"Wo4YLSWoAJ3gTn0YVvLtCMlHq\"\n",
    "ConsumerSecret= \"DmcNUaCGBQcB4BkIDFKpkQhlDzkktGRWyhSjiKlMEnH8WFNioE\"\n",
    "# AccessKey= \"\"\n",
    "# AccessSecret=\"\"\n",
    "\n",
    "auth = tweepy.OAuthHandler(ConsumerKey, ConsumerSecret)\n",
    "# auth.set_access_token(AccessKey, AccessSecret)\n",
    "\n",
    "api = tweepy.API(auth, wait_on_rate_limit=True,\n",
    "    wait_on_rate_limit_notify=True)"
   ]
  },
  {
   "cell_type": "code",
   "execution_count": 3,
   "metadata": {},
   "outputs": [],
   "source": [
    "def get_id(api, handle):\n",
    "    return api.get_user(handle)._json['id']\n",
    "\n",
    "def get_user(api, user_id):\n",
    "    return api.get_user(user_id)._json['name']"
   ]
  },
  {
   "cell_type": "code",
   "execution_count": null,
   "metadata": {},
   "outputs": [],
   "source": [
    "id = get_id(api, \"sdslabs\")"
   ]
  },
  {
   "cell_type": "code",
   "execution_count": null,
   "metadata": {},
   "outputs": [],
   "source": [
    "# returns followers_count if user object if passed\n",
    "def followers_count(user_onj):\n",
    "    return user_onj._json[\"followers_count\"]\n",
    "\n",
    "# returns followers_count if user id if passed\n",
    "def followers_count_id(api, user_id):\n",
    "    return api.get_user(user_id)._json[\"followers_count\"]"
   ]
  },
  {
   "cell_type": "code",
   "execution_count": null,
   "metadata": {},
   "outputs": [],
   "source": [
    "# returns followers id for a particular user id\n",
    "def followers_info(api, user_id):\n",
    "    follower_id = []\n",
    "    follower_name = []\n",
    "    follower_followers = []\n",
    "    follower_friends = []\n",
    "    for follow_obj in tweepy.Cursor(api.followers, id=user_id).items():\n",
    "        follower_id.append(follow_obj._json[\"id\"])\n",
    "        follower_name.append(follow_obj._json[\"name\"])\n",
    "        follower_followers.append(follow_obj._json[\"followers_count\"])\n",
    "        follower_friends.append(follow_obj._json[\"friends_count\"])\n",
    "    return follower_id, follower_name, follower_followers, follower_friends"
   ]
  },
  {
   "cell_type": "code",
   "execution_count": null,
   "metadata": {},
   "outputs": [],
   "source": [
    "x, y, z, w = followers_info(api, id)"
   ]
  },
  {
   "cell_type": "code",
   "execution_count": null,
   "metadata": {},
   "outputs": [],
   "source": [
    "def get_tweet_info(api, tweet_id):\n",
    "    return api.get_status(tweet_id)._json"
   ]
  },
  {
   "cell_type": "code",
   "execution_count": null,
   "metadata": {},
   "outputs": [],
   "source": [
    "# tweets contain both tweets and replies\n",
    "\n",
    "def get_tweets(api, user_id):\n",
    "    tweets_id = []\n",
    "    tweet_created_time = []\n",
    "    for x in tweepy.Cursor(api.user_timeline, id = user_id).items():\n",
    "        tweets_id.append(x._json['id_str'])\n",
    "        tweet_created_time.append(parse(x._json['created_at']).date())\n",
    "    return tweets_id, tweet_created_time\n",
    "\n",
    "# returns tweets upton certain timestamp say for 180 days from current date\n",
    "def get_certain_tweets(api, user_id, from_time = datetime.datetime.now().date() ,duration = 180 ):\n",
    "    print(from_time)\n",
    "    tweets_id = []\n",
    "    tweet_created_time = []\n",
    "    for x in tweepy.Cursor(api.user_timeline, id = user_id).items():\n",
    "        created_time = parse(x._json['created_at']).date()\n",
    "        if (from_time - created_time).days <= duration:\n",
    "            tweets_id.append(x._json['id_str'])\n",
    "            tweet_created_time.append(created_time)\n",
    "        else:\n",
    "            break\n",
    "    return tweets_id, tweet_created_time"
   ]
  },
  {
   "cell_type": "code",
   "execution_count": null,
   "metadata": {},
   "outputs": [],
   "source": [
    "def get_retweeters(tweet_id):\n",
    "    return api.retweeters(tweet_id)"
   ]
  },
  {
   "cell_type": "code",
   "execution_count": null,
   "metadata": {},
   "outputs": [],
   "source": [
    "## rank on the basis of retweets"
   ]
  },
  {
   "cell_type": "code",
   "execution_count": null,
   "metadata": {},
   "outputs": [],
   "source": [
    "tweets, time = get_tweets(api, id)"
   ]
  },
  {
   "cell_type": "code",
   "execution_count": null,
   "metadata": {},
   "outputs": [],
   "source": [
    "rank_followers = {}\n",
    "for x in tweets:\n",
    "    for y in get_retweeters(x):\n",
    "        if y in rank_followers:\n",
    "            rank_followers[y] = rank_followers[y] + 1\n",
    "        else:\n",
    "            rank_followers[y] = 1"
   ]
  },
  {
   "cell_type": "code",
   "execution_count": null,
   "metadata": {},
   "outputs": [],
   "source": [
    "rank_followers"
   ]
  }
 ],
 "metadata": {
  "kernelspec": {
   "display_name": "Python 3",
   "language": "python",
   "name": "python3"
  },
  "language_info": {
   "codemirror_mode": {
    "name": "ipython",
    "version": 3
   },
   "file_extension": ".py",
   "mimetype": "text/x-python",
   "name": "python",
   "nbconvert_exporter": "python",
   "pygments_lexer": "ipython3",
   "version": "3.7.3"
  }
 },
 "nbformat": 4,
 "nbformat_minor": 4
}
